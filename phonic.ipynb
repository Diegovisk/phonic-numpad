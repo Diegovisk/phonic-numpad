{
 "cells": [
  {
   "cell_type": "markdown",
   "metadata": {},
   "source": [
    "# DTMF Player - Dual Tone Multi Frequency player.\n",
    "\n",
    "This current work is made for the Digital Signal Processing class from UEA (Universidade do Estado do Amazonas).\n",
    "\n",
    "![DTMF](DTMF.png)\n",
    "\n",
    "Our goal is to mimic a phone keyboard with DTMF sounds. We also follow the specifications in our class statement.\n",
    "- 8kHz sampling rate\n",
    "- Sound frequencies equal to the image above (except A, B, C and D)\n",
    "- 1 Vpp wave amplitude\n",
    "- Graphical user interface"
   ]
  },
  {
   "cell_type": "code",
   "execution_count": 28,
   "metadata": {},
   "outputs": [],
   "source": [
    "from utils.play_key_sound import play_key_sound"
   ]
  },
  {
   "cell_type": "markdown",
   "metadata": {},
   "source": [
    "## Testing all possible inputs"
   ]
  },
  {
   "cell_type": "code",
   "execution_count": 29,
   "metadata": {},
   "outputs": [],
   "source": [
    "play_key_sound(\"1\")\n",
    "play_key_sound(\"2\")\n",
    "play_key_sound(\"3\")\n",
    "play_key_sound(\"4\")\n",
    "play_key_sound(\"5\")\n",
    "play_key_sound(\"6\")\n",
    "play_key_sound(\"7\")\n",
    "play_key_sound(\"8\")\n",
    "play_key_sound(\"9\")\n",
    "play_key_sound(\"*\")\n",
    "play_key_sound(\"0\")\n",
    "play_key_sound(\"#\")\n"
   ]
  },
  {
   "cell_type": "markdown",
   "metadata": {},
   "source": [
    "### Little easter egg, Power Rangers song! ⚡"
   ]
  },
  {
   "cell_type": "code",
   "execution_count": 41,
   "metadata": {},
   "outputs": [],
   "source": [
    "play_key_sound(\"3\", 0.4)\n",
    "play_key_sound(\"3\", 0.4)\n",
    "play_key_sound(\"2\", 0.25)\n",
    "play_key_sound(\"3\", 0.25)\n",
    "play_key_sound(\"9\", 0.5)\n",
    "play_key_sound(\"3\")\n"
   ]
  },
  {
   "cell_type": "markdown",
   "metadata": {},
   "source": [
    "## Examining a version of our wave, with 1.2kHz"
   ]
  },
  {
   "cell_type": "code",
   "execution_count": 31,
   "metadata": {},
   "outputs": [
    {
     "data": {
      "image/png": "[encoded data removed]",
      "text/plain": [
       "<Figure size 640x480 with 1 Axes>"
      ]
     },
     "metadata": {},
     "output_type": "display_data"
    }
   ],
   "source": [
    "\n",
    "\n",
    "import matplotlib.pyplot as plt\n",
    "import numpy as np\n",
    "\n",
    "fs = 8000\n",
    "f = 1200\n",
    "duration = 0.01\n",
    "\n",
    "x = 2 * np.pi * np.arange( fs * duration ) * f / fs\n",
    "\n",
    "y = np.sin(x) * 0.5\n",
    "\n",
    "fig = plt.figure()\n",
    "ax = fig.add_subplot(3, 1, 1)\n",
    "# ax.spines['left'].set_position('center')\n",
    "# ax.spines['bottom'].set_position('center')\n",
    "# ax.spines['right'].set_color('none')\n",
    "# ax.spines['top'].set_color('none')\n",
    "# ax.xaxis.set_ticks_position('bottom')\n",
    "# ax.yaxis.set_ticks_position('left')\n",
    "\n",
    "# plot the function\n",
    "plt.plot(x, y, 'b-')\n",
    "\n",
    "# show the plot\n",
    "plt.show()"
   ]
  },
  {
   "cell_type": "code",
   "execution_count": 40,
   "metadata": {},
   "outputs": [],
   "source": [
    "from guizero import App, Text, TextBox, PushButton\n",
    "\n",
    "def Keypad__1():\n",
    "   play_key_sound('1')\n",
    "def Keypad__2():\n",
    "   play_key_sound('2')\n",
    "def Keypad__3():\n",
    "   play_key_sound('3')\n",
    "def Keypad__4():\n",
    "   play_key_sound('4')\n",
    "def Keypad__5():\n",
    "   play_key_sound('5')\n",
    "def Keypad__6():\n",
    "   play_key_sound('6')\n",
    "def Keypad__7():\n",
    "   play_key_sound('7')\n",
    "def Keypad__8():\n",
    "   play_key_sound('8')\n",
    "def Keypad__9():\n",
    "   play_key_sound('9')\n",
    "def Keypad__0():\n",
    "   play_key_sound('0')\n",
    "def Keypad__star():\n",
    "   play_key_sound('*')\n",
    "def Keypad__hash():\n",
    "   play_key_sound('#')\n",
    "\n",
    "app = App(title=\"KeyPad\", width=252, height=350, layout=\"grid\")\n",
    "\n",
    "Keypad_1 = PushButton(app, Keypad__1, text=\"1\", grid=[0, 400])\n",
    "Keypad_1.width = 8\n",
    "Keypad_1.height = 4\n",
    "Keypad_2 = PushButton(app, Keypad__2, text=\"2\", grid=[50, 400])\n",
    "Keypad_2.width = 8\n",
    "Keypad_2.height = 4\n",
    "Keypad_3 = PushButton(app, Keypad__3, text=\"3\", grid=[100, 400])\n",
    "Keypad_3.width = 8\n",
    "Keypad_3.height = 4\n",
    "Keypad_4 = PushButton(app, Keypad__4, text=\"4\", grid=[0, 450])\n",
    "Keypad_4.width = 8\n",
    "Keypad_4.height = 4\n",
    "Keypad_5 = PushButton(app, Keypad__5, text=\"5\", grid=[50, 450])\n",
    "Keypad_5.width = 8\n",
    "Keypad_5.height = 4\n",
    "Keypad_6 = PushButton(app, Keypad__6, text=\"6\", grid=[100, 450])\n",
    "Keypad_6.width = 8\n",
    "Keypad_6.height = 4\n",
    "Keypad_7 = PushButton(app, Keypad__7, text=\"7\", grid=[0, 500])\n",
    "Keypad_7.width = 8\n",
    "Keypad_7.height = 4\n",
    "Keypad_8 = PushButton(app, Keypad__8, text=\"8\", grid=[50, 500])\n",
    "Keypad_8.width = 8\n",
    "Keypad_8.height = 4\n",
    "Keypad_9 = PushButton(app, Keypad__9, text=\"9\", grid=[100, 500])\n",
    "Keypad_9.width = 8\n",
    "Keypad_9.height = 4\n",
    "Keypad_0 = PushButton(app, Keypad__0, text=\"0\", grid=[50, 550])\n",
    "Keypad_0.width = 8\n",
    "Keypad_0.height = 4\n",
    "Keypad_Star = PushButton(app, Keypad__star, text=\"*\", grid=[0, 550])\n",
    "Keypad_Star.width = 8\n",
    "Keypad_Star.height = 4\n",
    "keypad_Hash = PushButton(app, Keypad__hash, text=\"#\", grid=[100, 550])\n",
    "keypad_Hash.width = 8\n",
    "keypad_Hash.height = 4\n",
    "\n",
    "def keyPressEvent(event):\n",
    "   try:\n",
    "        play_key_sound(event.key)\n",
    "   except:\n",
    "      pass\n",
    "\n",
    "\n",
    "app.when_key_released = keyPressEvent\n",
    "\n",
    "app.display()"
   ]
  },
  {
   "cell_type": "code",
   "execution_count": null,
   "metadata": {},
   "outputs": [],
   "source": []
  }
 ],
 "metadata": {
  "kernelspec": {
   "display_name": "Python 3.8.10 64-bit ('3.8.10')",
   "language": "python",
   "name": "python3"
  },
  "language_info": {
   "codemirror_mode": {
    "name": "ipython",
    "version": 3
   },
   "file_extension": ".py",
   "mimetype": "text/x-python",
   "name": "python",
   "nbconvert_exporter": "python",
   "pygments_lexer": "ipython3",
   "version": "3.8.10"
  },
  "orig_nbformat": 4,
  "vscode": {
   "interpreter": {
    "hash": "6ed2067c5c27dda8c5e086403673204715bad1c334257607b830ff063244a9bd"
   }
  }
 },
 "nbformat": 4,
 "nbformat_minor": 2
}
